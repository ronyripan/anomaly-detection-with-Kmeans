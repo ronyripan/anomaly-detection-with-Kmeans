{
 "cells": [
  {
   "cell_type": "code",
   "execution_count": 1,
   "metadata": {},
   "outputs": [],
   "source": [
    "import pandas as pd\n",
    "import numpy as np\n",
    "import matplotlib.pyplot as plt\n",
    "import seaborn as sns\n",
    "from scipy.spatial import distance"
   ]
  },
  {
   "cell_type": "code",
   "execution_count": 2,
   "metadata": {},
   "outputs": [],
   "source": [
    "dataset = pd.read_csv('heart.csv')"
   ]
  },
  {
   "cell_type": "code",
   "execution_count": 3,
   "metadata": {},
   "outputs": [],
   "source": [
    "features = dataset.drop('target',axis = 1)\n",
    "target = dataset['target']"
   ]
  },
  {
   "cell_type": "code",
   "execution_count": 4,
   "metadata": {},
   "outputs": [],
   "source": [
    "from sklearn.cluster import KMeans"
   ]
  },
  {
   "cell_type": "code",
   "execution_count": 5,
   "metadata": {},
   "outputs": [
    {
     "data": {
      "text/plain": [
       "KMeans(algorithm='auto', copy_x=True, init='k-means++', max_iter=300,\n",
       "       n_clusters=2, n_init=10, n_jobs=None, precompute_distances='auto',\n",
       "       random_state=42, tol=0.0001, verbose=0)"
      ]
     },
     "execution_count": 5,
     "metadata": {},
     "output_type": "execute_result"
    }
   ],
   "source": [
    "clustering = KMeans(n_clusters = 2, init = 'k-means++',random_state=42)\n",
    "clustering.fit(features)"
   ]
  },
  {
   "cell_type": "code",
   "execution_count": 6,
   "metadata": {},
   "outputs": [],
   "source": [
    "cluster_centers = list(clustering.cluster_centers_)"
   ]
  },
  {
   "cell_type": "code",
   "execution_count": 7,
   "metadata": {},
   "outputs": [],
   "source": [
    "distances = []\n",
    "for i in range(0,303):\n",
    "    center = list(cluster_centers[clustering.labels_[i]])\n",
    "    objects = list(features.iloc[i])\n",
    "    distances.append(distance.euclidean(center,objects))"
   ]
  },
  {
   "cell_type": "code",
   "execution_count": 8,
   "metadata": {},
   "outputs": [],
   "source": [
    "zero = []\n",
    "one = []\n",
    "for i in range(0,303):\n",
    "    if clustering.labels_[i] == 0:\n",
    "        zero.append(distances[i])\n",
    "    else:\n",
    "        one.append(distances[i])"
   ]
  },
  {
   "cell_type": "code",
   "execution_count": 9,
   "metadata": {},
   "outputs": [],
   "source": [
    "zero = np.array(zero)\n",
    "one = np.array(one)"
   ]
  },
  {
   "cell_type": "code",
   "execution_count": 10,
   "metadata": {},
   "outputs": [],
   "source": [
    "zero_mean = zero.mean()\n",
    "one_mean = one.mean()"
   ]
  },
  {
   "cell_type": "code",
   "execution_count": 11,
   "metadata": {},
   "outputs": [],
   "source": [
    "outlier_score = []\n",
    "outlier_score_zero = []\n",
    "outlier_score_one = []\n",
    "\n",
    "for i in range(0,303):\n",
    "    if clustering.labels_[i] == 0:\n",
    "        outlier_score.append(distances[i]/zero_mean)\n",
    "        outlier_score_zero.append(distances[i]/zero_mean)\n",
    "    elif clustering.labels_[i] == 1:\n",
    "         outlier_score.append(distances[i]/one_mean)\n",
    "         outlier_score_one.append(distances[i]/one_mean)"
   ]
  },
  {
   "cell_type": "code",
   "execution_count": 12,
   "metadata": {},
   "outputs": [],
   "source": [
    "score_zero = np.array(outlier_score_zero)\n",
    "score_one = np.array(outlier_score_one)"
   ]
  },
  {
   "cell_type": "code",
   "execution_count": 13,
   "metadata": {},
   "outputs": [],
   "source": [
    "def boxplot(dist_list):\n",
    "    sort_score_zero = sorted(dist_list)\n",
    "    med1 = np.argwhere(sort_score_zero == np.percentile(sort_score_zero,50,interpolation='nearest'))\n",
    "    med1 = med1[0][0]\n",
    "    #print(med1)\n",
    "    firsthalf = sort_score_zero[0:med1+1]\n",
    "    lasthalf = sort_score_zero[med1+1:]\n",
    "    firsthalf = np.array(firsthalf)\n",
    "    lasthalf = np.array(lasthalf)\n",
    "    q1_index = np.argwhere(firsthalf == np.percentile(firsthalf,50,interpolation='nearest'))\n",
    "    #print(q1_index)\n",
    "    q1_index = q1_index[0][0]\n",
    "    q3_index = np.argwhere(lasthalf == np.percentile(lasthalf,50,interpolation='nearest'))\n",
    "    q3_index = q3_index[0][0]\n",
    "    q1 = firsthalf[q1_index]\n",
    "    q3 = lasthalf[q3_index]\n",
    "    #print(q1_index)\n",
    "    #print(q3_index)\n",
    "    IQR = q3 - q1\n",
    "    MaxT = q3 + 1.5 * IQR\n",
    "    MinT = q1 - 1.5 * IQR\n",
    "    return ((MaxT,MinT))"
   ]
  },
  {
   "cell_type": "code",
   "execution_count": 14,
   "metadata": {},
   "outputs": [],
   "source": [
    "MaxT1,MinT1 = boxplot(score_zero)\n",
    "MaxT2,MinT2 = boxplot(score_one)"
   ]
  },
  {
   "cell_type": "code",
   "execution_count": 15,
   "metadata": {},
   "outputs": [],
   "source": [
    "outlier_label = []\n",
    "for i in range(0,303):\n",
    "    if clustering.labels_[i] == 0:\n",
    "        if outlier_score[i] > MaxT1 or outlier_score[i] < MinT1:\n",
    "            outlier_label.append(0)\n",
    "        else:\n",
    "            outlier_label.append(1)\n",
    "            \n",
    "    elif clustering.labels_[i] == 1:\n",
    "         if outlier_score[i] > MaxT2 or outlier_score[i] < MinT2:\n",
    "            outlier_label.append(0)\n",
    "         else:\n",
    "            outlier_label.append(2)"
   ]
  },
  {
   "cell_type": "code",
   "execution_count": 16,
   "metadata": {},
   "outputs": [
    {
     "name": "stdout",
     "output_type": "stream",
     "text": [
      "12\n"
     ]
    }
   ],
   "source": [
    "print(outlier_label.count(0))"
   ]
  },
  {
   "cell_type": "code",
   "execution_count": 17,
   "metadata": {},
   "outputs": [],
   "source": [
    "for i in range(0,303):\n",
    "    if outlier_label[i] == 0:\n",
    "        dataset.drop(i,axis=0,inplace =True)"
   ]
  },
  {
   "cell_type": "code",
   "execution_count": 18,
   "metadata": {},
   "outputs": [],
   "source": [
    "new = dataset.to_csv(r'C:\\Users\\muktadir\\Desktop\\Anomaly Detection\\new task\\k2.csv',encoding='utf-8',index=False)"
   ]
  },
  {
   "cell_type": "code",
   "execution_count": null,
   "metadata": {},
   "outputs": [],
   "source": [
    "new_dataset = pd.read_csv('k2.csv')\n",
    "old_dataset = pd.read_csv('heart.csv')"
   ]
  },
  {
   "cell_type": "code",
   "execution_count": null,
   "metadata": {},
   "outputs": [],
   "source": [
    "fig = plt.figure(figsize=(12,7))\n",
    "plt.subplot(1,2,1)\n",
    "sns.boxplot(y='chol',data=old_dataset,palette = 'winter')\n",
    "plt.xlabel('original dataset')\n",
    "plt.subplot(1,2,2)\n",
    "sns.boxplot(y='chol',data=new_dataset,palette = 'winter')\n",
    "plt.xlabel('without anomaly')"
   ]
  },
  {
   "cell_type": "code",
   "execution_count": 19,
   "metadata": {},
   "outputs": [
    {
     "data": {
      "image/png": "[encoded data removed]",
      "text/plain": [
       "<Figure size 504x360 with 1 Axes>"
      ]
     },
     "metadata": {
      "needs_background": "light"
     },
     "output_type": "display_data"
    }
   ],
   "source": [
    "outlier_label = np.array(outlier_label)\n",
    "#print(outlier_label)\n",
    "outlier_label = outlier_label.reshape(1,303)\n",
    "plt.figure(figsize=(7,5))\n",
    "plt.scatter(features[outlier_label[0] == 0].chol,\n",
    "            features[outlier_label[0] == 0].age,\n",
    "            s=50,\n",
    "            c='red',\n",
    "            marker='s',\n",
    "           label = 'anomaly')\n",
    "plt.scatter(features[outlier_label[0] == 1].chol,\n",
    "            features[outlier_label[0] == 1].age,\n",
    "            s=50,\n",
    "            c='orange',\n",
    "            marker='o',\n",
    "            edgecolors= 'black',\n",
    "            label='cluster 1')\n",
    "plt.scatter(features[outlier_label[0] == 2].chol,\n",
    "            features[outlier_label[0] == 2].age,\n",
    "            s=50,\n",
    "            c='lightblue',\n",
    "            marker='o',\n",
    "            edgecolors= 'black',\n",
    "            label='cluster 2')\n",
    "\n",
    "plt.legend(loc = 'lower right')\n",
    "plt.xlabel('chol')\n",
    "plt.ylabel('age')\n",
    "#plt.savefig('K=2.png')"
   ]
  }
 ],
 "metadata": {
  "kernelspec": {
   "display_name": "Python 3",
   "language": "python",
   "name": "python3"
  },
  "language_info": {
   "codemirror_mode": {
    "name": "ipython",
    "version": 3
   },
   "file_extension": ".py",
   "mimetype": "text/x-python",
   "name": "python",
   "nbconvert_exporter": "python",
   "pygments_lexer": "ipython3",
   "version": "3.7.6"
  }
 },
 "nbformat": 4,
 "nbformat_minor": 4
}
