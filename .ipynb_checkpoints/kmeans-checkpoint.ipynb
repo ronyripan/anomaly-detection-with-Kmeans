{
 "cells": [
  {
   "cell_type": "code",
   "execution_count": 1,
   "metadata": {},
   "outputs": [],
   "source": [
    "import pandas as pd\n",
    "import numpy as np\n",
    "import matplotlib.pyplot as plt\n",
    "import seaborn as sns\n",
    "from scipy.spatial import distance\n",
    "from scipy.spatial.distance import cdist "
   ]
  },
  {
   "cell_type": "code",
   "execution_count": 2,
   "metadata": {},
   "outputs": [],
   "source": [
    "dataset = pd.read_csv('heart.csv')"
   ]
  },
  {
   "cell_type": "code",
   "execution_count": 3,
   "metadata": {},
   "outputs": [
    {
     "data": {
      "text/html": [
       "<div>\n",
       "<style scoped>\n",
       "    .dataframe tbody tr th:only-of-type {\n",
       "        vertical-align: middle;\n",
       "    }\n",
       "\n",
       "    .dataframe tbody tr th {\n",
       "        vertical-align: top;\n",
       "    }\n",
       "\n",
       "    .dataframe thead th {\n",
       "        text-align: right;\n",
       "    }\n",
       "</style>\n",
       "<table border=\"1\" class=\"dataframe\">\n",
       "  <thead>\n",
       "    <tr style=\"text-align: right;\">\n",
       "      <th></th>\n",
       "      <th>age</th>\n",
       "      <th>sex</th>\n",
       "      <th>cp</th>\n",
       "      <th>trestbps</th>\n",
       "      <th>chol</th>\n",
       "      <th>fbs</th>\n",
       "      <th>restecg</th>\n",
       "      <th>thalach</th>\n",
       "      <th>exang</th>\n",
       "      <th>oldpeak</th>\n",
       "      <th>slope</th>\n",
       "      <th>ca</th>\n",
       "      <th>thal</th>\n",
       "      <th>target</th>\n",
       "    </tr>\n",
       "  </thead>\n",
       "  <tbody>\n",
       "    <tr>\n",
       "      <th>0</th>\n",
       "      <td>63</td>\n",
       "      <td>1</td>\n",
       "      <td>3</td>\n",
       "      <td>145</td>\n",
       "      <td>233</td>\n",
       "      <td>1</td>\n",
       "      <td>0</td>\n",
       "      <td>150</td>\n",
       "      <td>0</td>\n",
       "      <td>2.3</td>\n",
       "      <td>0</td>\n",
       "      <td>0</td>\n",
       "      <td>1</td>\n",
       "      <td>1</td>\n",
       "    </tr>\n",
       "    <tr>\n",
       "      <th>1</th>\n",
       "      <td>37</td>\n",
       "      <td>1</td>\n",
       "      <td>2</td>\n",
       "      <td>130</td>\n",
       "      <td>250</td>\n",
       "      <td>0</td>\n",
       "      <td>1</td>\n",
       "      <td>187</td>\n",
       "      <td>0</td>\n",
       "      <td>3.5</td>\n",
       "      <td>0</td>\n",
       "      <td>0</td>\n",
       "      <td>2</td>\n",
       "      <td>1</td>\n",
       "    </tr>\n",
       "    <tr>\n",
       "      <th>2</th>\n",
       "      <td>41</td>\n",
       "      <td>0</td>\n",
       "      <td>1</td>\n",
       "      <td>130</td>\n",
       "      <td>204</td>\n",
       "      <td>0</td>\n",
       "      <td>0</td>\n",
       "      <td>172</td>\n",
       "      <td>0</td>\n",
       "      <td>1.4</td>\n",
       "      <td>2</td>\n",
       "      <td>0</td>\n",
       "      <td>2</td>\n",
       "      <td>1</td>\n",
       "    </tr>\n",
       "    <tr>\n",
       "      <th>3</th>\n",
       "      <td>56</td>\n",
       "      <td>1</td>\n",
       "      <td>1</td>\n",
       "      <td>120</td>\n",
       "      <td>236</td>\n",
       "      <td>0</td>\n",
       "      <td>1</td>\n",
       "      <td>178</td>\n",
       "      <td>0</td>\n",
       "      <td>0.8</td>\n",
       "      <td>2</td>\n",
       "      <td>0</td>\n",
       "      <td>2</td>\n",
       "      <td>1</td>\n",
       "    </tr>\n",
       "    <tr>\n",
       "      <th>4</th>\n",
       "      <td>57</td>\n",
       "      <td>0</td>\n",
       "      <td>0</td>\n",
       "      <td>120</td>\n",
       "      <td>354</td>\n",
       "      <td>0</td>\n",
       "      <td>1</td>\n",
       "      <td>163</td>\n",
       "      <td>1</td>\n",
       "      <td>0.6</td>\n",
       "      <td>2</td>\n",
       "      <td>0</td>\n",
       "      <td>2</td>\n",
       "      <td>1</td>\n",
       "    </tr>\n",
       "  </tbody>\n",
       "</table>\n",
       "</div>"
      ],
      "text/plain": [
       "   age  sex  cp  trestbps  chol  fbs  restecg  thalach  exang  oldpeak  slope  \\\n",
       "0   63    1   3       145   233    1        0      150      0      2.3      0   \n",
       "1   37    1   2       130   250    0        1      187      0      3.5      0   \n",
       "2   41    0   1       130   204    0        0      172      0      1.4      2   \n",
       "3   56    1   1       120   236    0        1      178      0      0.8      2   \n",
       "4   57    0   0       120   354    0        1      163      1      0.6      2   \n",
       "\n",
       "   ca  thal  target  \n",
       "0   0     1       1  \n",
       "1   0     2       1  \n",
       "2   0     2       1  \n",
       "3   0     2       1  \n",
       "4   0     2       1  "
      ]
     },
     "execution_count": 3,
     "metadata": {},
     "output_type": "execute_result"
    }
   ],
   "source": [
    "dataset.head()"
   ]
  },
  {
   "cell_type": "code",
   "execution_count": 4,
   "metadata": {},
   "outputs": [
    {
     "name": "stdout",
     "output_type": "stream",
     "text": [
      "<class 'pandas.core.frame.DataFrame'>\n",
      "RangeIndex: 303 entries, 0 to 302\n",
      "Data columns (total 14 columns):\n",
      " #   Column    Non-Null Count  Dtype  \n",
      "---  ------    --------------  -----  \n",
      " 0   age       303 non-null    int64  \n",
      " 1   sex       303 non-null    int64  \n",
      " 2   cp        303 non-null    int64  \n",
      " 3   trestbps  303 non-null    int64  \n",
      " 4   chol      303 non-null    int64  \n",
      " 5   fbs       303 non-null    int64  \n",
      " 6   restecg   303 non-null    int64  \n",
      " 7   thalach   303 non-null    int64  \n",
      " 8   exang     303 non-null    int64  \n",
      " 9   oldpeak   303 non-null    float64\n",
      " 10  slope     303 non-null    int64  \n",
      " 11  ca        303 non-null    int64  \n",
      " 12  thal      303 non-null    int64  \n",
      " 13  target    303 non-null    int64  \n",
      "dtypes: float64(1), int64(13)\n",
      "memory usage: 33.3 KB\n"
     ]
    }
   ],
   "source": [
    "dataset.info()"
   ]
  },
  {
   "cell_type": "code",
   "execution_count": 5,
   "metadata": {},
   "outputs": [],
   "source": [
    "features = dataset.drop('target',axis = 1)\n",
    "target = dataset['target']"
   ]
  },
  {
   "cell_type": "code",
   "execution_count": 6,
   "metadata": {},
   "outputs": [],
   "source": [
    "from sklearn.cluster import KMeans\n"
   ]
  },
  {
   "cell_type": "code",
   "execution_count": 7,
   "metadata": {},
   "outputs": [
    {
     "data": {
      "image/png": "[encoded data removed]",
      "text/plain": [
       "<Figure size 432x288 with 1 Axes>"
      ]
     },
     "metadata": {
      "needs_background": "light"
     },
     "output_type": "display_data"
    }
   ],
   "source": [
    "from sklearn.metrics import silhouette_score\n",
    "kmeans_per_k = [KMeans(n_clusters=k, random_state = 42).fit(features) for k in range(1,10)]\n",
    "silhouette_score = [silhouette_score(features,model.labels_) for model in kmeans_per_k[1:]]\n",
    "plt.plot(range(2,10),silhouette_score,color='blue', linestyle='dashed', marker='o',\n",
    "         markerfacecolor='red', markersize=10, label = \"Silhouette Curve\")\n",
    "k = np.argmax(silhouette_score) + 2\n",
    "plt.axvline(x = k, linestyle = '--', c='green', label = \"optimal number of clusters ({})\".format(k))\n",
    "plt.scatter(k,silhouette_score[k-2],c = 'red',s=400)\n",
    "plt.legend(shadow = True)\n",
    "plt.ylabel(\"Silhouette scores\")\n",
    "plt.xlabel(\"values of K\")\n",
    "plt.grid()"
   ]
  },
  {
   "cell_type": "code",
   "execution_count": 8,
   "metadata": {},
   "outputs": [
    {
     "data": {
      "text/plain": [
       "KMeans(algorithm='auto', copy_x=True, init='k-means++', max_iter=300,\n",
       "       n_clusters=2, n_init=10, n_jobs=None, precompute_distances='auto',\n",
       "       random_state=42, tol=0.0001, verbose=0)"
      ]
     },
     "execution_count": 8,
     "metadata": {},
     "output_type": "execute_result"
    }
   ],
   "source": [
    "clustering = KMeans(n_clusters = 2, init = 'k-means++',random_state=42)\n",
    "clustering.fit(features)"
   ]
  },
  {
   "cell_type": "code",
   "execution_count": 9,
   "metadata": {},
   "outputs": [],
   "source": [
    "cluster_centers = list(clustering.cluster_centers_)"
   ]
  },
  {
   "cell_type": "code",
   "execution_count": 10,
   "metadata": {},
   "outputs": [],
   "source": [
    "distances = []\n",
    "for i in range(0,303):\n",
    "    center = list(cluster_centers[clustering.labels_[i]])\n",
    "    objects = list(features.iloc[i])\n",
    "    distances.append(distance.euclidean(center,objects))"
   ]
  },
  {
   "cell_type": "code",
   "execution_count": 11,
   "metadata": {},
   "outputs": [],
   "source": [
    "zero = []\n",
    "one = []\n",
    "#two = []\n",
    "#three = []\n",
    "#four = []\n",
    "for i in range(0,303):\n",
    "    if clustering.labels_[i] == 0:\n",
    "        zero.append(distances[i])\n",
    "    elif clustering.labels_[i] == 1:\n",
    "        one.append(distances[i])\n",
    "    #elif clustering.labels_[i] == 2:\n",
    "     #   two.append(distances[i])\n",
    "    #elif clustering.labels_[i] == 3:\n",
    "     #   three.append(distances[i])\n",
    "    #else:\n",
    "     #   two.append(distances[i])"
   ]
  },
  {
   "cell_type": "code",
   "execution_count": 12,
   "metadata": {},
   "outputs": [],
   "source": [
    "zero = np.array(zero)\n",
    "one = np.array(one)\n",
    "#two = np.array(two)\n",
    "#three = np.array(three)\n",
    "#four = np.array(four)"
   ]
  },
  {
   "cell_type": "code",
   "execution_count": 13,
   "metadata": {},
   "outputs": [],
   "source": [
    "zero_mean = zero.mean()\n",
    "one_mean = one.mean()\n",
    "#two_mean = two.mean()\n",
    "#three_mean = three.mean()\n",
    "#four_mean = four.mean()"
   ]
  },
  {
   "cell_type": "code",
   "execution_count": 14,
   "metadata": {},
   "outputs": [],
   "source": [
    "outlier_score = []\n",
    "outlier_score_zero = []\n",
    "outlier_score_one = []\n",
    "#outlier_score_two = []\n",
    "#outlier_score_three = []\n",
    "#outlier_score_four = []\n",
    "for i in range(0,303):\n",
    "    if clustering.labels_[i] == 0:\n",
    "        outlier_score.append(distances[i]/zero_mean)\n",
    "        outlier_score_zero.append(distances[i]/zero_mean)\n",
    "    elif clustering.labels_[i] == 1:\n",
    "         outlier_score.append(distances[i]/one_mean)\n",
    "         outlier_score_one.append(distances[i]/one_mean)\n",
    "    #else:\n",
    "         #outlier_score.append(distances[i]/two_mean)\n",
    "         #outlier_score_two.append(distances[i]/two_mean)\n",
    "    #elif clustering.labels_[i] == 3:\n",
    "         #outlier_score.append(distances[i]/three_mean)\n",
    "         #outlier_score_three.append(distances[i]/three_mean)\n",
    "    #else:\n",
    "        #outlier_score.append(distances[i]/four_mean)\n",
    "        #outlier_score_four.append(distances[i]/four_mean)"
   ]
  },
  {
   "cell_type": "code",
   "execution_count": 16,
   "metadata": {},
   "outputs": [],
   "source": [
    "score = np.array(outlier_score)\n",
    "score_zero = np.array(outlier_score_zero)\n",
    "score_one = np.array(outlier_score_one)\n",
    "#score_two = np.array(outlier_score_two)\n",
    "#score_three = np.array(outlier_score_three)\n",
    "#score_four = np.array(outlier_score_four)"
   ]
  },
  {
   "cell_type": "code",
   "execution_count": 54,
   "metadata": {},
   "outputs": [],
   "source": [
    "import statistics"
   ]
  },
  {
   "cell_type": "code",
   "execution_count": 53,
   "metadata": {},
   "outputs": [
    {
     "name": "stdout",
     "output_type": "stream",
     "text": [
      "(array([], dtype=int64),)\n"
     ]
    }
   ],
   "source": [
    "sort_score_zero = sorted(score_one)\n",
    "l1 = len(sort_score_zero)\n",
    "m1 = statistics.median(score_one)\n",
    "iv = np.where(sort_score_zero == m1)\n",
    "print(iv)"
   ]
  },
  {
   "cell_type": "code",
   "execution_count": 49,
   "metadata": {},
   "outputs": [
    {
     "name": "stdout",
     "output_type": "stream",
     "text": [
      "1.8719119332242815\n"
     ]
    }
   ],
   "source": [
    "firsthalf = sort_score_zero[0:97]\n",
    "lasthalf = sort_score_zero[97:]\n",
    "q1 = statistics.median(firsthalf)\n",
    "q3 = statistics.median(lasthalf)\n",
    "IQR = q3 - q1\n",
    "print(q3 + 1.5 * IQR)"
   ]
  },
  {
   "cell_type": "code",
   "execution_count": 59,
   "metadata": {},
   "outputs": [
    {
     "data": {
      "text/plain": [
       "161"
      ]
     },
     "execution_count": 59,
     "metadata": {},
     "output_type": "execute_result"
    }
   ],
   "source": [
    "np.argsort(score_zero)[len(score_zero)//2]"
   ]
  },
  {
   "cell_type": "code",
   "execution_count": 51,
   "metadata": {},
   "outputs": [
    {
     "name": "stdout",
     "output_type": "stream",
     "text": [
      "193\n"
     ]
    }
   ],
   "source": [
    "l1 = len(sort_score_zero)\n",
    "print(l1)"
   ]
  },
  {
   "cell_type": "code",
   "execution_count": 31,
   "metadata": {},
   "outputs": [
    {
     "data": {
      "text/plain": [
       "<matplotlib.axes._subplots.AxesSubplot at 0x1fbac789488>"
      ]
     },
     "execution_count": 31,
     "metadata": {},
     "output_type": "execute_result"
    },
    {
     "data": {
      "image/png": "[encoded data removed]",
      "text/plain": [
       "<Figure size 864x504 with 1 Axes>"
      ]
     },
     "metadata": {
      "needs_background": "light"
     },
     "output_type": "display_data"
    }
   ],
   "source": [
    "fig = plt.figure(figsize=(12,7))\n",
    "plt.subplot(1,2,1)\n",
    "sns.boxplot(y=zero,palette = 'winter')"
   ]
  },
  {
   "cell_type": "code",
   "execution_count": 32,
   "metadata": {},
   "outputs": [
    {
     "data": {
      "text/plain": [
       "<matplotlib.axes._subplots.AxesSubplot at 0x1fbac7eed88>"
      ]
     },
     "execution_count": 32,
     "metadata": {},
     "output_type": "execute_result"
    },
    {
     "data": {
      "image/png": "[encoded data removed]",
      "text/plain": [
       "<Figure size 864x504 with 1 Axes>"
      ]
     },
     "metadata": {
      "needs_background": "light"
     },
     "output_type": "display_data"
    }
   ],
   "source": [
    "fig = plt.figure(figsize=(12,7))\n",
    "plt.subplot(1,2,1)\n",
    "sns.boxplot(y=one,palette = 'winter')"
   ]
  },
  {
   "cell_type": "code",
   "execution_count": 20,
   "metadata": {},
   "outputs": [],
   "source": [
    "for i in range(0,303):\n",
    "    if clustering.labels_[i] == 0:\n",
    "        if outlier_score[i] > 1.8719119332242815:\n",
    "            dataset.drop(i,axis=0,inplace=True)\n",
    "    elif clustering.labels_[i] == 1:\n",
    "         if outlier_score[i] > 1.8:\n",
    "            dataset.drop(i,axis=0,inplace=True)"
   ]
  },
  {
   "cell_type": "code",
   "execution_count": 21,
   "metadata": {},
   "outputs": [],
   "source": [
    "outlier_label = []\n",
    "for i in range(0,303):\n",
    "    if clustering.labels_[i] == 0:\n",
    "        if outlier_score[i] > 1.7:\n",
    "            outlier_label.append(0)\n",
    "        else:\n",
    "            outlier_label.append(1)\n",
    "            \n",
    "    elif clustering.labels_[i] == 1:\n",
    "         if outlier_score[i] > 1.8:\n",
    "            outlier_label.append(0)\n",
    "         else:\n",
    "            outlier_label.append(2)"
   ]
  },
  {
   "cell_type": "code",
   "execution_count": 22,
   "metadata": {},
   "outputs": [],
   "source": [
    "new = dataset.to_csv(r'C:\\Users\\muktadir\\Desktop\\kmeans\\anomaly detection\\k2.csv',encoding='utf-8',index=False)"
   ]
  },
  {
   "cell_type": "code",
   "execution_count": 24,
   "metadata": {},
   "outputs": [],
   "source": [
    "new_dataset = pd.read_csv('k2.csv')\n",
    "old_dataset = pd.read_csv('heart.csv')"
   ]
  },
  {
   "cell_type": "code",
   "execution_count": 25,
   "metadata": {},
   "outputs": [
    {
     "data": {
      "text/plain": [
       "Text(0.5, 0, 'without anomaly')"
      ]
     },
     "execution_count": 25,
     "metadata": {},
     "output_type": "execute_result"
    },
    {
     "data": {
      "image/png": "[encoded data removed]",
      "text/plain": [
       "<Figure size 864x504 with 2 Axes>"
      ]
     },
     "metadata": {
      "needs_background": "light"
     },
     "output_type": "display_data"
    }
   ],
   "source": [
    "fig = plt.figure(figsize=(12,7))\n",
    "plt.subplot(1,2,1)\n",
    "sns.boxplot(y='chol',data=old_dataset,palette = 'winter')\n",
    "plt.xlabel('original dataset')\n",
    "plt.subplot(1,2,2)\n",
    "sns.boxplot(y='chol',data=new_dataset,palette = 'winter')\n",
    "plt.xlabel('without anomaly')\n",
    "#fig.savefig('trestbps.png')"
   ]
  },
  {
   "cell_type": "code",
   "execution_count": 30,
   "metadata": {},
   "outputs": [
    {
     "data": {
      "text/plain": [
       "Text(0.5, 1.0, 'original dataset')"
      ]
     },
     "execution_count": 30,
     "metadata": {},
     "output_type": "execute_result"
    },
    {
     "data": {
      "image/png": "[encoded data removed]",
      "text/plain": [
       "<Figure size 432x288 with 1 Axes>"
      ]
     },
     "metadata": {
      "needs_background": "light"
     },
     "output_type": "display_data"
    }
   ],
   "source": [
    "outlier_label = np.array(outlier_label)\n",
    "#print(outlier_label)\n",
    "outlier_label = outlier_label.reshape(1,303)\n",
    "color_theme = np.array(['red','blue','green','c'])\n",
    "plt.scatter(features[outlier_label[0] == 0].chol,\n",
    "            features[outlier_label[0] == 0].age,\n",
    "            s=50,\n",
    "            c='red',\n",
    "            marker='s',\n",
    "            edgecolors= 'black',\n",
    "            label='anomaly')\n",
    "plt.scatter(features[outlier_label[0] == 1].chol,\n",
    "            features[outlier_label[0] == 1].age,\n",
    "            s=50,\n",
    "            c='orange',\n",
    "            marker='o',\n",
    "            edgecolors= 'black',\n",
    "            label='cluster 2')\n",
    "plt.scatter(features[outlier_label[0] == 2].chol,\n",
    "            features[outlier_label[0] == 2].age,\n",
    "            s=50,\n",
    "            c='lightblue',\n",
    "            marker='v',\n",
    "            edgecolors= 'black',\n",
    "            label='cluster 3')\n",
    "\n",
    "plt.legend(loc='lower right')\n",
    "plt.xlabel('chol')\n",
    "plt.ylabel('age')\n",
    "plt.title(\"original dataset\")"
   ]
  },
  {
   "cell_type": "code",
   "execution_count": 28,
   "metadata": {},
   "outputs": [
    {
     "data": {
      "text/plain": [
       "Text(0.5, 1.0, 'without anomaly')"
      ]
     },
     "execution_count": 28,
     "metadata": {},
     "output_type": "execute_result"
    },
    {
     "data": {
      "image/png": "[encoded data removed]",
      "text/plain": [
       "<Figure size 432x288 with 1 Axes>"
      ]
     },
     "metadata": {
      "needs_background": "light"
     },
     "output_type": "display_data"
    }
   ],
   "source": [
    "outlier_label = np.array(outlier_label)\n",
    "#print(outlier_label)\n",
    "outlier_label = outlier_label.reshape(1,303)\n",
    "\n",
    "plt.scatter(features[outlier_label[0] == 0].chol,\n",
    "            features[outlier_label[0] == 0].age,\n",
    "            s=50,\n",
    "            c='white',\n",
    "            marker='s')\n",
    "plt.scatter(features[outlier_label[0] == 1].chol,\n",
    "            features[outlier_label[0] == 1].age,\n",
    "            s=50,\n",
    "            c='orange',\n",
    "            marker='o',\n",
    "            edgecolors= 'black',\n",
    "            label='cluster 1')\n",
    "plt.scatter(features[outlier_label[0] == 2].chol,\n",
    "            features[outlier_label[0] == 2].age,\n",
    "            s=50,\n",
    "            c='lightblue',\n",
    "            marker='v',\n",
    "            edgecolors= 'black',\n",
    "            label='cluster 2')\n",
    "\n",
    "plt.legend(loc = 'lower right')\n",
    "plt.xlabel('chol')\n",
    "plt.ylabel('age')\n",
    "plt.title(\"without anomaly\")"
   ]
  }
 ],
 "metadata": {
  "kernelspec": {
   "display_name": "Python 3",
   "language": "python",
   "name": "python3"
  },
  "language_info": {
   "codemirror_mode": {
    "name": "ipython",
    "version": 3
   },
   "file_extension": ".py",
   "mimetype": "text/x-python",
   "name": "python",
   "nbconvert_exporter": "python",
   "pygments_lexer": "ipython3",
   "version": "3.7.6"
  }
 },
 "nbformat": 4,
 "nbformat_minor": 4
}
